{
 "cells": [
  {
   "cell_type": "markdown",
   "id": "190752cf",
   "metadata": {},
   "source": [
    "# Historical Analysis of Summer Olympics Medals"
   ]
  },
  {
   "cell_type": "markdown",
   "id": "c63f95f2",
   "metadata": {},
   "source": [
    "#### Dataset - https://www.kaggle.com/datasets/divyansh22/summer-olympics-medals"
   ]
  },
  {
   "cell_type": "code",
   "execution_count": 24,
   "id": "08af8d9c",
   "metadata": {},
   "outputs": [],
   "source": [
    "# importing essential libraries and tools.\n",
    "import pandas as pd\n",
    "import matplotlib.pyplot as plt\n",
    "%matplotlib inline\n",
    "import seaborn as sns"
   ]
  },
  {
   "cell_type": "code",
   "execution_count": 25,
   "id": "fe75877e",
   "metadata": {},
   "outputs": [
    {
     "data": {
      "text/html": [
       "<div>\n",
       "<style scoped>\n",
       "    .dataframe tbody tr th:only-of-type {\n",
       "        vertical-align: middle;\n",
       "    }\n",
       "\n",
       "    .dataframe tbody tr th {\n",
       "        vertical-align: top;\n",
       "    }\n",
       "\n",
       "    .dataframe thead th {\n",
       "        text-align: right;\n",
       "    }\n",
       "</style>\n",
       "<table border=\"1\" class=\"dataframe\">\n",
       "  <thead>\n",
       "    <tr style=\"text-align: right;\">\n",
       "      <th></th>\n",
       "      <th>City</th>\n",
       "      <th>Year</th>\n",
       "      <th>Sport</th>\n",
       "      <th>Discipline</th>\n",
       "      <th>Event</th>\n",
       "      <th>Athlete</th>\n",
       "      <th>Gender</th>\n",
       "      <th>Country_Code</th>\n",
       "      <th>Country</th>\n",
       "      <th>Event_gender</th>\n",
       "      <th>Medal</th>\n",
       "    </tr>\n",
       "  </thead>\n",
       "  <tbody>\n",
       "    <tr>\n",
       "      <th>0</th>\n",
       "      <td>Montreal</td>\n",
       "      <td>1976.0</td>\n",
       "      <td>Aquatics</td>\n",
       "      <td>Diving</td>\n",
       "      <td>3m springboard</td>\n",
       "      <td>KÖHLER, Christa</td>\n",
       "      <td>Women</td>\n",
       "      <td>GDR</td>\n",
       "      <td>East Germany</td>\n",
       "      <td>W</td>\n",
       "      <td>Silver</td>\n",
       "    </tr>\n",
       "    <tr>\n",
       "      <th>1</th>\n",
       "      <td>Montreal</td>\n",
       "      <td>1976.0</td>\n",
       "      <td>Aquatics</td>\n",
       "      <td>Diving</td>\n",
       "      <td>3m springboard</td>\n",
       "      <td>KOSENKOV, Aleksandr</td>\n",
       "      <td>Men</td>\n",
       "      <td>URS</td>\n",
       "      <td>Soviet Union</td>\n",
       "      <td>M</td>\n",
       "      <td>Bronze</td>\n",
       "    </tr>\n",
       "    <tr>\n",
       "      <th>2</th>\n",
       "      <td>Montreal</td>\n",
       "      <td>1976.0</td>\n",
       "      <td>Aquatics</td>\n",
       "      <td>Diving</td>\n",
       "      <td>3m springboard</td>\n",
       "      <td>BOGGS, Philip George</td>\n",
       "      <td>Men</td>\n",
       "      <td>USA</td>\n",
       "      <td>United States</td>\n",
       "      <td>M</td>\n",
       "      <td>Gold</td>\n",
       "    </tr>\n",
       "    <tr>\n",
       "      <th>3</th>\n",
       "      <td>Montreal</td>\n",
       "      <td>1976.0</td>\n",
       "      <td>Aquatics</td>\n",
       "      <td>Diving</td>\n",
       "      <td>3m springboard</td>\n",
       "      <td>CAGNOTTO, Giorgio Franco</td>\n",
       "      <td>Men</td>\n",
       "      <td>ITA</td>\n",
       "      <td>Italy</td>\n",
       "      <td>M</td>\n",
       "      <td>Silver</td>\n",
       "    </tr>\n",
       "    <tr>\n",
       "      <th>4</th>\n",
       "      <td>Montreal</td>\n",
       "      <td>1976.0</td>\n",
       "      <td>Aquatics</td>\n",
       "      <td>Diving</td>\n",
       "      <td>10m platform</td>\n",
       "      <td>WILSON, Deborah Keplar</td>\n",
       "      <td>Women</td>\n",
       "      <td>USA</td>\n",
       "      <td>United States</td>\n",
       "      <td>W</td>\n",
       "      <td>Bronze</td>\n",
       "    </tr>\n",
       "  </tbody>\n",
       "</table>\n",
       "</div>"
      ],
      "text/plain": [
       "       City    Year     Sport Discipline           Event  \\\n",
       "0  Montreal  1976.0  Aquatics     Diving  3m springboard   \n",
       "1  Montreal  1976.0  Aquatics     Diving  3m springboard   \n",
       "2  Montreal  1976.0  Aquatics     Diving  3m springboard   \n",
       "3  Montreal  1976.0  Aquatics     Diving  3m springboard   \n",
       "4  Montreal  1976.0  Aquatics     Diving    10m platform   \n",
       "\n",
       "                    Athlete Gender Country_Code        Country Event_gender  \\\n",
       "0           KÖHLER, Christa  Women          GDR   East Germany            W   \n",
       "1       KOSENKOV, Aleksandr    Men          URS   Soviet Union            M   \n",
       "2      BOGGS, Philip George    Men          USA  United States            M   \n",
       "3  CAGNOTTO, Giorgio Franco    Men          ITA          Italy            M   \n",
       "4    WILSON, Deborah Keplar  Women          USA  United States            W   \n",
       "\n",
       "    Medal  \n",
       "0  Silver  \n",
       "1  Bronze  \n",
       "2    Gold  \n",
       "3  Silver  \n",
       "4  Bronze  "
      ]
     },
     "execution_count": 25,
     "metadata": {},
     "output_type": "execute_result"
    }
   ],
   "source": [
    "#read data from csv file.\n",
    "olympic_data = pd.read_csv('Summer-Olympic-medals-1976-to-2008.csv', encoding='latin-1')\n",
    "olympic_data.head()"
   ]
  },
  {
   "cell_type": "code",
   "execution_count": 27,
   "id": "f623e3fb",
   "metadata": {},
   "outputs": [
    {
     "data": {
      "text/plain": [
       "(15433, 11)"
      ]
     },
     "execution_count": 27,
     "metadata": {},
     "output_type": "execute_result"
    }
   ],
   "source": [
    "# total number of rows and columns in dataset.\n",
    "olympic_data.shape"
   ]
  },
  {
   "cell_type": "code",
   "execution_count": 28,
   "id": "50d6a224",
   "metadata": {},
   "outputs": [
    {
     "data": {
      "text/plain": [
       "Index(['City', 'Year', 'Sport', 'Discipline', 'Event', 'Athlete', 'Gender',\n",
       "       'Country_Code', 'Country', 'Event_gender', 'Medal'],\n",
       "      dtype='object')"
      ]
     },
     "execution_count": 28,
     "metadata": {},
     "output_type": "execute_result"
    }
   ],
   "source": [
    "# columns names in our dataset.\n",
    "olympic_data.columns"
   ]
  },
  {
   "cell_type": "code",
   "execution_count": 29,
   "id": "c01a3a2b",
   "metadata": {},
   "outputs": [
    {
     "name": "stdout",
     "output_type": "stream",
     "text": [
      "<class 'pandas.core.frame.DataFrame'>\n",
      "RangeIndex: 15433 entries, 0 to 15432\n",
      "Data columns (total 11 columns):\n",
      " #   Column        Non-Null Count  Dtype  \n",
      "---  ------        --------------  -----  \n",
      " 0   City          15316 non-null  object \n",
      " 1   Year          15316 non-null  float64\n",
      " 2   Sport         15316 non-null  object \n",
      " 3   Discipline    15316 non-null  object \n",
      " 4   Event         15316 non-null  object \n",
      " 5   Athlete       15316 non-null  object \n",
      " 6   Gender        15316 non-null  object \n",
      " 7   Country_Code  15316 non-null  object \n",
      " 8   Country       15316 non-null  object \n",
      " 9   Event_gender  15316 non-null  object \n",
      " 10  Medal         15316 non-null  object \n",
      "dtypes: float64(1), object(10)\n",
      "memory usage: 1.3+ MB\n"
     ]
    }
   ],
   "source": [
    "# some basic information about the dataset like datatypes, if the column is null and more.\n",
    "olympic_data.info()"
   ]
  },
  {
   "cell_type": "markdown",
   "id": "e70ccabc",
   "metadata": {},
   "source": [
    "************\n",
    "##### First task is to clean the dataset by handling missing values, incorrect entries and also ensure data is correctly formatted.\n",
    "************"
   ]
  },
  {
   "cell_type": "code",
   "execution_count": 30,
   "id": "3a53ba2a",
   "metadata": {},
   "outputs": [
    {
     "data": {
      "text/plain": [
       "City            117\n",
       "Year            117\n",
       "Sport           117\n",
       "Discipline      117\n",
       "Event           117\n",
       "Athlete         117\n",
       "Gender          117\n",
       "Country_Code    117\n",
       "Country         117\n",
       "Event_gender    117\n",
       "Medal           117\n",
       "dtype: int64"
      ]
     },
     "execution_count": 30,
     "metadata": {},
     "output_type": "execute_result"
    }
   ],
   "source": [
    "# isnull() function is used to see the null values in our dataset and then count() is counting the null values \n",
    "# from each column.\n",
    "olympic_data.isnull().sum()"
   ]
  },
  {
   "cell_type": "code",
   "execution_count": 31,
   "id": "11c0ce4c",
   "metadata": {},
   "outputs": [
    {
     "data": {
      "text/plain": [
       "(15316, 11)"
      ]
     },
     "execution_count": 31,
     "metadata": {},
     "output_type": "execute_result"
    }
   ],
   "source": [
    "# drop all rows where null values are there using dropna() function.\n",
    "clean_data1 = olympic_data.dropna()\n",
    "clean_data1.shape"
   ]
  },
  {
   "cell_type": "code",
   "execution_count": 32,
   "id": "4d94fbd1",
   "metadata": {},
   "outputs": [
    {
     "data": {
      "text/html": [
       "<div>\n",
       "<style scoped>\n",
       "    .dataframe tbody tr th:only-of-type {\n",
       "        vertical-align: middle;\n",
       "    }\n",
       "\n",
       "    .dataframe tbody tr th {\n",
       "        vertical-align: top;\n",
       "    }\n",
       "\n",
       "    .dataframe thead th {\n",
       "        text-align: right;\n",
       "    }\n",
       "</style>\n",
       "<table border=\"1\" class=\"dataframe\">\n",
       "  <thead>\n",
       "    <tr style=\"text-align: right;\">\n",
       "      <th></th>\n",
       "      <th>Year</th>\n",
       "    </tr>\n",
       "  </thead>\n",
       "  <tbody>\n",
       "    <tr>\n",
       "      <th>count</th>\n",
       "      <td>15316.000000</td>\n",
       "    </tr>\n",
       "    <tr>\n",
       "      <th>mean</th>\n",
       "      <td>1993.620789</td>\n",
       "    </tr>\n",
       "    <tr>\n",
       "      <th>std</th>\n",
       "      <td>10.159851</td>\n",
       "    </tr>\n",
       "    <tr>\n",
       "      <th>min</th>\n",
       "      <td>1976.000000</td>\n",
       "    </tr>\n",
       "    <tr>\n",
       "      <th>25%</th>\n",
       "      <td>1984.000000</td>\n",
       "    </tr>\n",
       "    <tr>\n",
       "      <th>50%</th>\n",
       "      <td>1996.000000</td>\n",
       "    </tr>\n",
       "    <tr>\n",
       "      <th>75%</th>\n",
       "      <td>2004.000000</td>\n",
       "    </tr>\n",
       "    <tr>\n",
       "      <th>max</th>\n",
       "      <td>2008.000000</td>\n",
       "    </tr>\n",
       "  </tbody>\n",
       "</table>\n",
       "</div>"
      ],
      "text/plain": [
       "               Year\n",
       "count  15316.000000\n",
       "mean    1993.620789\n",
       "std       10.159851\n",
       "min     1976.000000\n",
       "25%     1984.000000\n",
       "50%     1996.000000\n",
       "75%     2004.000000\n",
       "max     2008.000000"
      ]
     },
     "execution_count": 32,
     "metadata": {},
     "output_type": "execute_result"
    }
   ],
   "source": [
    "# describe() function shows every numerical column statistical characteristics.\n",
    "clean_data1.describe()"
   ]
  },
  {
   "cell_type": "code",
   "execution_count": 33,
   "id": "69b269a2",
   "metadata": {},
   "outputs": [
    {
     "data": {
      "text/plain": [
       "City             object\n",
       "Year            float64\n",
       "Sport            object\n",
       "Discipline       object\n",
       "Event            object\n",
       "Athlete          object\n",
       "Gender           object\n",
       "Country_Code     object\n",
       "Country          object\n",
       "Event_gender     object\n",
       "Medal            object\n",
       "dtype: object"
      ]
     },
     "execution_count": 33,
     "metadata": {},
     "output_type": "execute_result"
    }
   ],
   "source": [
    "# dtypes shows the data types of each column.\n",
    "clean_data1.dtypes"
   ]
  },
  {
   "cell_type": "code",
   "execution_count": 34,
   "id": "f660b434",
   "metadata": {},
   "outputs": [
    {
     "data": {
      "text/plain": [
       "array(['Montreal', 'Moscow', 'Los Angeles', 'Seoul', 'Barcelona',\n",
       "       'Atlanta', 'Sydney', 'Athens', 'Beijing'], dtype=object)"
      ]
     },
     "execution_count": 34,
     "metadata": {},
     "output_type": "execute_result"
    }
   ],
   "source": [
    "# unique() function shows the unique values from a specified column.\n",
    "clean_data1.City.unique()"
   ]
  },
  {
   "cell_type": "code",
   "execution_count": 35,
   "id": "ac01bae6",
   "metadata": {},
   "outputs": [
    {
     "data": {
      "text/plain": [
       "array(['Silver', 'Bronze', 'Gold'], dtype=object)"
      ]
     },
     "execution_count": 35,
     "metadata": {},
     "output_type": "execute_result"
    }
   ],
   "source": [
    "clean_data1.Medal.unique()"
   ]
  },
  {
   "cell_type": "code",
   "execution_count": 36,
   "id": "72690fd1",
   "metadata": {},
   "outputs": [
    {
     "data": {
      "text/plain": [
       "0        False\n",
       "1        False\n",
       "2        False\n",
       "3        False\n",
       "4        False\n",
       "         ...  \n",
       "15428    False\n",
       "15429    False\n",
       "15430    False\n",
       "15431    False\n",
       "15432    False\n",
       "Length: 15316, dtype: bool"
      ]
     },
     "execution_count": 36,
     "metadata": {},
     "output_type": "execute_result"
    }
   ],
   "source": [
    "# duplicated() function returns boolean series denoting duplicate rows.\n",
    "clean_data1.duplicated()"
   ]
  },
  {
   "cell_type": "code",
   "execution_count": 156,
   "id": "951cc6c2",
   "metadata": {},
   "outputs": [
    {
     "name": "stderr",
     "output_type": "stream",
     "text": [
      "C:\\Users\\hp\\AppData\\Local\\Temp\\ipykernel_10464\\3765053076.py:2: SettingWithCopyWarning: \n",
      "A value is trying to be set on a copy of a slice from a DataFrame.\n",
      "Try using .loc[row_indexer,col_indexer] = value instead\n",
      "\n",
      "See the caveats in the documentation: https://pandas.pydata.org/pandas-docs/stable/user_guide/indexing.html#returning-a-view-versus-a-copy\n",
      "  clean_data1['Year'] = pd.to_datetime(clean_data1['Year'], format='%Y')\n"
     ]
    },
    {
     "data": {
      "text/plain": [
       "City                    object\n",
       "Year            datetime64[ns]\n",
       "Sport                   object\n",
       "Discipline              object\n",
       "Event                   object\n",
       "Athlete                 object\n",
       "Gender                  object\n",
       "Country_Code            object\n",
       "Country                 object\n",
       "Event_gender            object\n",
       "Medal                 category\n",
       "dtype: object"
      ]
     },
     "execution_count": 156,
     "metadata": {},
     "output_type": "execute_result"
    }
   ],
   "source": [
    "# converting year column from an object format to datetime format which is useful for timebased operations and analysis.\n",
    "clean_data1['Year'] = pd.to_datetime(clean_data1['Year'], format='%Y')\n",
    "clean_data1.dtypes"
   ]
  },
  {
   "cell_type": "code",
   "execution_count": 40,
   "id": "75c5eaad",
   "metadata": {},
   "outputs": [
    {
     "name": "stderr",
     "output_type": "stream",
     "text": [
      "C:\\Users\\hp\\AppData\\Local\\Temp\\ipykernel_10464\\741754381.py:1: SettingWithCopyWarning: \n",
      "A value is trying to be set on a copy of a slice from a DataFrame.\n",
      "Try using .loc[row_indexer,col_indexer] = value instead\n",
      "\n",
      "See the caveats in the documentation: https://pandas.pydata.org/pandas-docs/stable/user_guide/indexing.html#returning-a-view-versus-a-copy\n",
      "  clean_data1['Medal'] = pd.Categorical(clean_data1['Medal'], categories=[\"Gold\", \"Silver\", \"Bronze\"], ordered=True)\n"
     ]
    },
    {
     "data": {
      "text/plain": [
       "City                    object\n",
       "Year            datetime64[ns]\n",
       "Sport                   object\n",
       "Discipline              object\n",
       "Event                   object\n",
       "Athlete                 object\n",
       "Gender                  object\n",
       "Country_Code            object\n",
       "Country                 object\n",
       "Event_gender            object\n",
       "Medal                 category\n",
       "dtype: object"
      ]
     },
     "execution_count": 40,
     "metadata": {},
     "output_type": "execute_result"
    }
   ],
   "source": [
    "# converted Medal column to category type \n",
    "clean_data1['Medal'] = pd.Categorical(clean_data1['Medal'], categories=[\"Gold\", \"Silver\", \"Bronze\"], ordered=True)\n",
    "clean_data1.dtypes"
   ]
  },
  {
   "cell_type": "markdown",
   "id": "cba60ddc",
   "metadata": {},
   "source": [
    "*****\n",
    "##### Next task is perform exploratory data analysis to understand the distribution of medals, number of participating nations, and other key metrics and visualize overall trends in data.\n",
    "*****"
   ]
  },
  {
   "cell_type": "code",
   "execution_count": 16,
   "id": "9ce63260",
   "metadata": {},
   "outputs": [
    {
     "data": {
      "text/html": [
       "<div>\n",
       "<style scoped>\n",
       "    .dataframe tbody tr th:only-of-type {\n",
       "        vertical-align: middle;\n",
       "    }\n",
       "\n",
       "    .dataframe tbody tr th {\n",
       "        vertical-align: top;\n",
       "    }\n",
       "\n",
       "    .dataframe thead th {\n",
       "        text-align: right;\n",
       "    }\n",
       "</style>\n",
       "<table border=\"1\" class=\"dataframe\">\n",
       "  <thead>\n",
       "    <tr style=\"text-align: right;\">\n",
       "      <th></th>\n",
       "      <th>City</th>\n",
       "      <th>Year</th>\n",
       "      <th>Sport</th>\n",
       "      <th>Discipline</th>\n",
       "      <th>Event</th>\n",
       "      <th>Athlete</th>\n",
       "      <th>Gender</th>\n",
       "      <th>Country_Code</th>\n",
       "      <th>Country</th>\n",
       "      <th>Event_gender</th>\n",
       "      <th>Medal</th>\n",
       "    </tr>\n",
       "  </thead>\n",
       "  <tbody>\n",
       "    <tr>\n",
       "      <th>0</th>\n",
       "      <td>Montreal</td>\n",
       "      <td>1976-01-01</td>\n",
       "      <td>Aquatics</td>\n",
       "      <td>Diving</td>\n",
       "      <td>3m springboard</td>\n",
       "      <td>KÖHLER, Christa</td>\n",
       "      <td>Women</td>\n",
       "      <td>GDR</td>\n",
       "      <td>East Germany</td>\n",
       "      <td>W</td>\n",
       "      <td>Silver</td>\n",
       "    </tr>\n",
       "    <tr>\n",
       "      <th>1</th>\n",
       "      <td>Montreal</td>\n",
       "      <td>1976-01-01</td>\n",
       "      <td>Aquatics</td>\n",
       "      <td>Diving</td>\n",
       "      <td>3m springboard</td>\n",
       "      <td>KOSENKOV, Aleksandr</td>\n",
       "      <td>Men</td>\n",
       "      <td>URS</td>\n",
       "      <td>Soviet Union</td>\n",
       "      <td>M</td>\n",
       "      <td>Bronze</td>\n",
       "    </tr>\n",
       "    <tr>\n",
       "      <th>2</th>\n",
       "      <td>Montreal</td>\n",
       "      <td>1976-01-01</td>\n",
       "      <td>Aquatics</td>\n",
       "      <td>Diving</td>\n",
       "      <td>3m springboard</td>\n",
       "      <td>BOGGS, Philip George</td>\n",
       "      <td>Men</td>\n",
       "      <td>USA</td>\n",
       "      <td>United States</td>\n",
       "      <td>M</td>\n",
       "      <td>Gold</td>\n",
       "    </tr>\n",
       "    <tr>\n",
       "      <th>3</th>\n",
       "      <td>Montreal</td>\n",
       "      <td>1976-01-01</td>\n",
       "      <td>Aquatics</td>\n",
       "      <td>Diving</td>\n",
       "      <td>3m springboard</td>\n",
       "      <td>CAGNOTTO, Giorgio Franco</td>\n",
       "      <td>Men</td>\n",
       "      <td>ITA</td>\n",
       "      <td>Italy</td>\n",
       "      <td>M</td>\n",
       "      <td>Silver</td>\n",
       "    </tr>\n",
       "    <tr>\n",
       "      <th>4</th>\n",
       "      <td>Montreal</td>\n",
       "      <td>1976-01-01</td>\n",
       "      <td>Aquatics</td>\n",
       "      <td>Diving</td>\n",
       "      <td>10m platform</td>\n",
       "      <td>WILSON, Deborah Keplar</td>\n",
       "      <td>Women</td>\n",
       "      <td>USA</td>\n",
       "      <td>United States</td>\n",
       "      <td>W</td>\n",
       "      <td>Bronze</td>\n",
       "    </tr>\n",
       "    <tr>\n",
       "      <th>...</th>\n",
       "      <td>...</td>\n",
       "      <td>...</td>\n",
       "      <td>...</td>\n",
       "      <td>...</td>\n",
       "      <td>...</td>\n",
       "      <td>...</td>\n",
       "      <td>...</td>\n",
       "      <td>...</td>\n",
       "      <td>...</td>\n",
       "      <td>...</td>\n",
       "      <td>...</td>\n",
       "    </tr>\n",
       "    <tr>\n",
       "      <th>15428</th>\n",
       "      <td>Beijing</td>\n",
       "      <td>2008-01-01</td>\n",
       "      <td>Wrestling</td>\n",
       "      <td>Wrestling Gre-R</td>\n",
       "      <td>66 - 74kg</td>\n",
       "      <td>GUENOT, Christophe</td>\n",
       "      <td>Men</td>\n",
       "      <td>FRA</td>\n",
       "      <td>France</td>\n",
       "      <td>M</td>\n",
       "      <td>Bronze</td>\n",
       "    </tr>\n",
       "    <tr>\n",
       "      <th>15429</th>\n",
       "      <td>Beijing</td>\n",
       "      <td>2008-01-01</td>\n",
       "      <td>Wrestling</td>\n",
       "      <td>Wrestling Gre-R</td>\n",
       "      <td>66 - 74kg</td>\n",
       "      <td>KVIRKELIA, Manuchar</td>\n",
       "      <td>Men</td>\n",
       "      <td>GEO</td>\n",
       "      <td>Georgia</td>\n",
       "      <td>M</td>\n",
       "      <td>Gold</td>\n",
       "    </tr>\n",
       "    <tr>\n",
       "      <th>15430</th>\n",
       "      <td>Beijing</td>\n",
       "      <td>2008-01-01</td>\n",
       "      <td>Wrestling</td>\n",
       "      <td>Wrestling Gre-R</td>\n",
       "      <td>55 - 60kg</td>\n",
       "      <td>RAHIMOV, Vitaliy</td>\n",
       "      <td>Men</td>\n",
       "      <td>AZE</td>\n",
       "      <td>Azerbaijan</td>\n",
       "      <td>M</td>\n",
       "      <td>Silver</td>\n",
       "    </tr>\n",
       "    <tr>\n",
       "      <th>15431</th>\n",
       "      <td>Beijing</td>\n",
       "      <td>2008-01-01</td>\n",
       "      <td>Wrestling</td>\n",
       "      <td>Wrestling Gre-R</td>\n",
       "      <td>60 - 66kg</td>\n",
       "      <td>GUENOT, Steeve</td>\n",
       "      <td>Men</td>\n",
       "      <td>FRA</td>\n",
       "      <td>France</td>\n",
       "      <td>M</td>\n",
       "      <td>Gold</td>\n",
       "    </tr>\n",
       "    <tr>\n",
       "      <th>15432</th>\n",
       "      <td>Beijing</td>\n",
       "      <td>2008-01-01</td>\n",
       "      <td>Wrestling</td>\n",
       "      <td>Wrestling Gre-R</td>\n",
       "      <td>96 - 120kg</td>\n",
       "      <td>LOPEZ, Mijain</td>\n",
       "      <td>Men</td>\n",
       "      <td>CUB</td>\n",
       "      <td>Cuba</td>\n",
       "      <td>M</td>\n",
       "      <td>Gold</td>\n",
       "    </tr>\n",
       "  </tbody>\n",
       "</table>\n",
       "<p>15316 rows × 11 columns</p>\n",
       "</div>"
      ],
      "text/plain": [
       "           City       Year      Sport       Discipline           Event  \\\n",
       "0      Montreal 1976-01-01   Aquatics           Diving  3m springboard   \n",
       "1      Montreal 1976-01-01   Aquatics           Diving  3m springboard   \n",
       "2      Montreal 1976-01-01   Aquatics           Diving  3m springboard   \n",
       "3      Montreal 1976-01-01   Aquatics           Diving  3m springboard   \n",
       "4      Montreal 1976-01-01   Aquatics           Diving    10m platform   \n",
       "...         ...        ...        ...              ...             ...   \n",
       "15428   Beijing 2008-01-01  Wrestling  Wrestling Gre-R       66 - 74kg   \n",
       "15429   Beijing 2008-01-01  Wrestling  Wrestling Gre-R       66 - 74kg   \n",
       "15430   Beijing 2008-01-01  Wrestling  Wrestling Gre-R       55 - 60kg   \n",
       "15431   Beijing 2008-01-01  Wrestling  Wrestling Gre-R       60 - 66kg   \n",
       "15432   Beijing 2008-01-01  Wrestling  Wrestling Gre-R      96 - 120kg   \n",
       "\n",
       "                        Athlete Gender Country_Code        Country  \\\n",
       "0               KÖHLER, Christa  Women          GDR   East Germany   \n",
       "1           KOSENKOV, Aleksandr    Men          URS   Soviet Union   \n",
       "2          BOGGS, Philip George    Men          USA  United States   \n",
       "3      CAGNOTTO, Giorgio Franco    Men          ITA          Italy   \n",
       "4        WILSON, Deborah Keplar  Women          USA  United States   \n",
       "...                         ...    ...          ...            ...   \n",
       "15428        GUENOT, Christophe    Men          FRA         France   \n",
       "15429       KVIRKELIA, Manuchar    Men          GEO        Georgia   \n",
       "15430          RAHIMOV, Vitaliy    Men          AZE     Azerbaijan   \n",
       "15431            GUENOT, Steeve    Men          FRA         France   \n",
       "15432             LOPEZ, Mijain    Men          CUB           Cuba   \n",
       "\n",
       "      Event_gender   Medal  \n",
       "0                W  Silver  \n",
       "1                M  Bronze  \n",
       "2                M    Gold  \n",
       "3                M  Silver  \n",
       "4                W  Bronze  \n",
       "...            ...     ...  \n",
       "15428            M  Bronze  \n",
       "15429            M    Gold  \n",
       "15430            M  Silver  \n",
       "15431            M    Gold  \n",
       "15432            M    Gold  \n",
       "\n",
       "[15316 rows x 11 columns]"
      ]
     },
     "execution_count": 16,
     "metadata": {},
     "output_type": "execute_result"
    }
   ],
   "source": [
    "clean_data1"
   ]
  },
  {
   "cell_type": "code",
   "execution_count": 48,
   "id": "52f145e4",
   "metadata": {},
   "outputs": [
    {
     "data": {
      "text/plain": [
       "Bronze    5258\n",
       "Gold      5042\n",
       "Silver    5016\n",
       "Name: Medal, dtype: int64"
      ]
     },
     "execution_count": 48,
     "metadata": {},
     "output_type": "execute_result"
    }
   ],
   "source": [
    "# total number of distribution of medals.\n",
    "totalno_of_medals = clean_data1['Medal'].value_counts()\n",
    "totalno_of_medals"
   ]
  },
  {
   "cell_type": "code",
   "execution_count": 103,
   "id": "c95f0054",
   "metadata": {},
   "outputs": [
    {
     "data": {
      "text/plain": [
       "Country\n",
       "Afghanistan          1\n",
       "Algeria             14\n",
       "Argentina          153\n",
       "Armenia              9\n",
       "Australia          798\n",
       "                  ... \n",
       "Virgin Islands*      1\n",
       "West Germany       345\n",
       "Yugoslavia         278\n",
       "Zambia               2\n",
       "Zimbabwe            23\n",
       "Name: Medal, Length: 127, dtype: int64"
      ]
     },
     "execution_count": 103,
     "metadata": {},
     "output_type": "execute_result"
    }
   ],
   "source": [
    "# number of medals each country have.\n",
    "medals_by_country = clean_data1.groupby('Country').Medal.count()\n",
    "medals_by_country\n",
    "# medals_by_country.idxmax()\n"
   ]
  },
  {
   "cell_type": "code",
   "execution_count": 49,
   "id": "d66f963f",
   "metadata": {},
   "outputs": [
    {
     "data": {
      "text/plain": [
       "Gender\n",
       "Men      9388\n",
       "Women    5928\n",
       "Name: Medal, dtype: int64"
      ]
     },
     "execution_count": 49,
     "metadata": {},
     "output_type": "execute_result"
    }
   ],
   "source": [
    "# distribution of medals among gender.\n",
    "clean_data1.groupby('Gender').Medal.count()"
   ]
  },
  {
   "cell_type": "code",
   "execution_count": 61,
   "id": "013631f9",
   "metadata": {},
   "outputs": [
    {
     "data": {
      "text/plain": [
       "127"
      ]
     },
     "execution_count": 61,
     "metadata": {},
     "output_type": "execute_result"
    }
   ],
   "source": [
    "# Numver of unique countries participated in Olympics.\n",
    "clean_data1['Country'].nunique()"
   ]
  },
  {
   "cell_type": "code",
   "execution_count": 62,
   "id": "1eb8ccdc",
   "metadata": {},
   "outputs": [
    {
     "data": {
      "text/plain": [
       "array(['East Germany', 'Soviet Union', 'United States', 'Italy', 'Sweden',\n",
       "       'Australia', 'Canada', 'West Germany', 'Netherlands',\n",
       "       'United Kingdom', 'Hungary', 'Japan', 'Cuba', 'Poland', 'Bulgaria',\n",
       "       'New Zealand', 'Belgium', 'Mexico', 'Jamaica', 'Finland',\n",
       "       'Romania', 'Portugal', 'France', 'Brazil', 'Czechoslovakia',\n",
       "       'Trinidad and Tobago', 'Yugoslavia', 'Venezuela', 'Puerto Rico*',\n",
       "       'Korea, North', 'Bermuda*', 'Thailand', 'Spain', 'Denmark',\n",
       "       'Switzerland', 'Pakistan', 'Korea, South', 'Norway', 'Austria',\n",
       "       'Iran', 'Mongolia', 'Ethiopia', 'Tanzania', 'Guyana', 'Uganda',\n",
       "       'Ireland', 'India', 'Zimbabwe', 'Greece', 'Lebanon', 'China',\n",
       "       'Nigeria', 'Kenya', 'Morocco', \"Cote d'Ivoire\", 'Algeria',\n",
       "       'Turkey', 'Cameroon', 'Zambia', 'Dominican Republic', 'Iceland',\n",
       "       'Egypt', 'Colombia', 'Peru', 'Taiwan', 'Syria', 'Costa Rica',\n",
       "       'Suriname', 'Indonesia', 'Djibouti', 'Senegal', 'Philippines',\n",
       "       'Netherlands Antilles*', 'Virgin Islands*', 'Chile', 'Argentina',\n",
       "       'Unified team', 'Germany', 'Bahamas', 'South Africa', 'Namibia',\n",
       "       'Qatar', 'Lithuania', 'Malaysia', 'Croatia', 'Latvia', 'Estonia',\n",
       "       'Ghana', 'Israel', 'Slovenia',\n",
       "       'Independent Olympic Participants (1992)', 'Russia', 'Ukraine',\n",
       "       'Belarus', 'Burundi', 'Ecuador', 'Mozambique', 'Czech Republic',\n",
       "       'Tunisia', 'Kazakhstan', 'Tonga', 'Uzbekistan', 'Slovakia',\n",
       "       'Moldova', 'Georgia', 'Hong Kong*', 'Armenia', 'Azerbaijan',\n",
       "       'Saudi Arabia', 'Barbados', 'Sri Lanka', 'Uruguay', 'Kyrgyzstan',\n",
       "       'Kuwait', 'Vietnam', 'Macedonia', 'Serbia', 'Eritrea', 'Paraguay',\n",
       "       'United Arab Emirates', 'Panama', 'Sudan', 'Mauritius', 'Togo',\n",
       "       'Tajikistan', 'Singapore', 'Afghanistan'], dtype=object)"
      ]
     },
     "execution_count": 62,
     "metadata": {},
     "output_type": "execute_result"
    }
   ],
   "source": [
    "# Name of countries participated in Olympics.\n",
    "clean_data1['Country'].unique()"
   ]
  },
  {
   "cell_type": "code",
   "execution_count": 65,
   "id": "23848580",
   "metadata": {},
   "outputs": [
    {
     "data": {
      "text/plain": [
       "293"
      ]
     },
     "execution_count": 65,
     "metadata": {},
     "output_type": "execute_result"
    }
   ],
   "source": [
    "# number of unique events.\n",
    "clean_data1['Event'].nunique()"
   ]
  },
  {
   "cell_type": "code",
   "execution_count": 68,
   "id": "5094dfc5",
   "metadata": {},
   "outputs": [
    {
     "data": {
      "text/plain": [
       "11337"
      ]
     },
     "execution_count": 68,
     "metadata": {},
     "output_type": "execute_result"
    }
   ],
   "source": [
    "# total number of athletes in this Olympics.\n",
    "clean_data1['Athlete'].nunique()"
   ]
  },
  {
   "cell_type": "code",
   "execution_count": 74,
   "id": "dca8191b",
   "metadata": {},
   "outputs": [
    {
     "data": {
      "text/plain": [
       "Sport              Discipline     \n",
       "Aquatics           Diving              4\n",
       "                   Swimming           18\n",
       "                   Synchronized S.     3\n",
       "                   Water polo          1\n",
       "Archery            Archery             4\n",
       "Athletics          Athletics          30\n",
       "Badminton          Badminton           2\n",
       "Baseball           Baseball            1\n",
       "Basketball         Basketball          1\n",
       "Boxing             Boxing             17\n",
       "Canoe / Kayak      Canoe / Kayak F    10\n",
       "                   Canoe / Kayak S     3\n",
       "Cycling            BMX                 2\n",
       "                   Cycling Road        3\n",
       "                   Cycling Track      13\n",
       "                   Mountain Bike       1\n",
       "Equestrian         Dressage            2\n",
       "                   Eventing            2\n",
       "                   Jumping             2\n",
       "Fencing            Fencing             6\n",
       "Football           Football            1\n",
       "Gymnastics         Artistic G.        10\n",
       "                   Rhythmic G.         2\n",
       "                   Trampoline          1\n",
       "Handball           Handball            1\n",
       "Hockey             Hockey              1\n",
       "Judo               Judo               32\n",
       "Modern Pentathlon  Modern Pentath.     2\n",
       "Rowing             Rowing             13\n",
       "Sailing            Sailing            20\n",
       "Shooting           Shooting           18\n",
       "Softball           Softball            1\n",
       "Table Tennis       Table Tennis        3\n",
       "Taekwondo          Taekwondo           8\n",
       "Tennis             Tennis              2\n",
       "Triathlon          Triathlon           1\n",
       "Volleyball         Beach volley.       1\n",
       "                   Volleyball          1\n",
       "Weightlifting      Weightlifting      35\n",
       "Wrestling          Wrestling Free.    30\n",
       "                   Wrestling Gre-R    26\n",
       "Name: Event, dtype: int64"
      ]
     },
     "execution_count": 74,
     "metadata": {},
     "output_type": "execute_result"
    }
   ],
   "source": [
    "# number of unique events held in each sport and discipline.\n",
    "events_by_sportanddiscipline = clean_data1.groupby(['Sport', 'Discipline']).Event.nunique()\n",
    "events_by_sportanddiscipline"
   ]
  },
  {
   "cell_type": "code",
   "execution_count": 84,
   "id": "d128ae40",
   "metadata": {},
   "outputs": [
    {
     "data": {
      "text/plain": [
       "Year\n",
       "1976    1305\n",
       "1980    1387\n",
       "1984    1459\n",
       "1988    1546\n",
       "1992    1705\n",
       "1996    1859\n",
       "2000    2015\n",
       "2004    1998\n",
       "2008    2042\n",
       "Name: Medal, dtype: int64"
      ]
     },
     "execution_count": 84,
     "metadata": {},
     "output_type": "execute_result"
    }
   ],
   "source": [
    "# count the total number of medals won each year.\n",
    "clean_data1.groupby(clean_data1['Year'].dt.year).Medal.count()"
   ]
  },
  {
   "cell_type": "markdown",
   "id": "4ea43a30",
   "metadata": {},
   "source": [
    "*****\n",
    "##### Next task is to analyze countries performance over the years.\n",
    "*****"
   ]
  },
  {
   "cell_type": "code",
   "execution_count": 94,
   "id": "a794b81a",
   "metadata": {},
   "outputs": [
    {
     "data": {
      "text/plain": [
       "Country      Year\n",
       "Afghanistan  2008     1\n",
       "Algeria      1984     2\n",
       "             1992     2\n",
       "             1996     3\n",
       "             2000     5\n",
       "                     ..\n",
       "Zambia       1984     1\n",
       "             1996     1\n",
       "Zimbabwe     1980    16\n",
       "             2004     3\n",
       "             2008     4\n",
       "Name: Medal, Length: 559, dtype: int64"
      ]
     },
     "execution_count": 94,
     "metadata": {},
     "output_type": "execute_result"
    }
   ],
   "source": [
    "# performace of countries over the years in terms of medals won.\n",
    "medals_of_country = clean_data1.groupby(['Country', clean_data1['Year'].dt.year]).Medal.count()\n",
    "medals_of_country"
   ]
  },
  {
   "cell_type": "code",
   "execution_count": 102,
   "id": "5486a8b1",
   "metadata": {},
   "outputs": [
    {
     "data": {
      "text/plain": [
       "Country\n",
       "United States    1992\n",
       "Soviet Union     1021\n",
       "Australia         798\n",
       "Germany           691\n",
       "China             679\n",
       "                 ... \n",
       "Panama              1\n",
       "Senegal             1\n",
       "Sri Lanka           1\n",
       "Sudan               1\n",
       "Macedonia           1\n",
       "Name: Medal, Length: 127, dtype: int64"
      ]
     },
     "execution_count": 102,
     "metadata": {},
     "output_type": "execute_result"
    }
   ],
   "source": [
    "# top performing countries bases on total medal count.\n",
    "clean_data1.groupby('Country').Medal.count().sort_values(ascending=False)"
   ]
  },
  {
   "cell_type": "markdown",
   "id": "1ef28d81",
   "metadata": {},
   "source": [
    "*****\n",
    "##### Next task is analyze athelete performance including their achievements, identifying standout performers and many more. \n",
    "*****"
   ]
  },
  {
   "cell_type": "code",
   "execution_count": 104,
   "id": "ccdf16c9",
   "metadata": {},
   "outputs": [
    {
     "data": {
      "text/html": [
       "<div>\n",
       "<style scoped>\n",
       "    .dataframe tbody tr th:only-of-type {\n",
       "        vertical-align: middle;\n",
       "    }\n",
       "\n",
       "    .dataframe tbody tr th {\n",
       "        vertical-align: top;\n",
       "    }\n",
       "\n",
       "    .dataframe thead th {\n",
       "        text-align: right;\n",
       "    }\n",
       "</style>\n",
       "<table border=\"1\" class=\"dataframe\">\n",
       "  <thead>\n",
       "    <tr style=\"text-align: right;\">\n",
       "      <th></th>\n",
       "      <th>City</th>\n",
       "      <th>Year</th>\n",
       "      <th>Sport</th>\n",
       "      <th>Discipline</th>\n",
       "      <th>Event</th>\n",
       "      <th>Athlete</th>\n",
       "      <th>Gender</th>\n",
       "      <th>Country_Code</th>\n",
       "      <th>Country</th>\n",
       "      <th>Event_gender</th>\n",
       "      <th>Medal</th>\n",
       "    </tr>\n",
       "  </thead>\n",
       "  <tbody>\n",
       "    <tr>\n",
       "      <th>0</th>\n",
       "      <td>Montreal</td>\n",
       "      <td>1976-01-01</td>\n",
       "      <td>Aquatics</td>\n",
       "      <td>Diving</td>\n",
       "      <td>3m springboard</td>\n",
       "      <td>KÖHLER, Christa</td>\n",
       "      <td>Women</td>\n",
       "      <td>GDR</td>\n",
       "      <td>East Germany</td>\n",
       "      <td>W</td>\n",
       "      <td>Silver</td>\n",
       "    </tr>\n",
       "    <tr>\n",
       "      <th>1</th>\n",
       "      <td>Montreal</td>\n",
       "      <td>1976-01-01</td>\n",
       "      <td>Aquatics</td>\n",
       "      <td>Diving</td>\n",
       "      <td>3m springboard</td>\n",
       "      <td>KOSENKOV, Aleksandr</td>\n",
       "      <td>Men</td>\n",
       "      <td>URS</td>\n",
       "      <td>Soviet Union</td>\n",
       "      <td>M</td>\n",
       "      <td>Bronze</td>\n",
       "    </tr>\n",
       "    <tr>\n",
       "      <th>2</th>\n",
       "      <td>Montreal</td>\n",
       "      <td>1976-01-01</td>\n",
       "      <td>Aquatics</td>\n",
       "      <td>Diving</td>\n",
       "      <td>3m springboard</td>\n",
       "      <td>BOGGS, Philip George</td>\n",
       "      <td>Men</td>\n",
       "      <td>USA</td>\n",
       "      <td>United States</td>\n",
       "      <td>M</td>\n",
       "      <td>Gold</td>\n",
       "    </tr>\n",
       "    <tr>\n",
       "      <th>3</th>\n",
       "      <td>Montreal</td>\n",
       "      <td>1976-01-01</td>\n",
       "      <td>Aquatics</td>\n",
       "      <td>Diving</td>\n",
       "      <td>3m springboard</td>\n",
       "      <td>CAGNOTTO, Giorgio Franco</td>\n",
       "      <td>Men</td>\n",
       "      <td>ITA</td>\n",
       "      <td>Italy</td>\n",
       "      <td>M</td>\n",
       "      <td>Silver</td>\n",
       "    </tr>\n",
       "    <tr>\n",
       "      <th>4</th>\n",
       "      <td>Montreal</td>\n",
       "      <td>1976-01-01</td>\n",
       "      <td>Aquatics</td>\n",
       "      <td>Diving</td>\n",
       "      <td>10m platform</td>\n",
       "      <td>WILSON, Deborah Keplar</td>\n",
       "      <td>Women</td>\n",
       "      <td>USA</td>\n",
       "      <td>United States</td>\n",
       "      <td>W</td>\n",
       "      <td>Bronze</td>\n",
       "    </tr>\n",
       "    <tr>\n",
       "      <th>...</th>\n",
       "      <td>...</td>\n",
       "      <td>...</td>\n",
       "      <td>...</td>\n",
       "      <td>...</td>\n",
       "      <td>...</td>\n",
       "      <td>...</td>\n",
       "      <td>...</td>\n",
       "      <td>...</td>\n",
       "      <td>...</td>\n",
       "      <td>...</td>\n",
       "      <td>...</td>\n",
       "    </tr>\n",
       "    <tr>\n",
       "      <th>15428</th>\n",
       "      <td>Beijing</td>\n",
       "      <td>2008-01-01</td>\n",
       "      <td>Wrestling</td>\n",
       "      <td>Wrestling Gre-R</td>\n",
       "      <td>66 - 74kg</td>\n",
       "      <td>GUENOT, Christophe</td>\n",
       "      <td>Men</td>\n",
       "      <td>FRA</td>\n",
       "      <td>France</td>\n",
       "      <td>M</td>\n",
       "      <td>Bronze</td>\n",
       "    </tr>\n",
       "    <tr>\n",
       "      <th>15429</th>\n",
       "      <td>Beijing</td>\n",
       "      <td>2008-01-01</td>\n",
       "      <td>Wrestling</td>\n",
       "      <td>Wrestling Gre-R</td>\n",
       "      <td>66 - 74kg</td>\n",
       "      <td>KVIRKELIA, Manuchar</td>\n",
       "      <td>Men</td>\n",
       "      <td>GEO</td>\n",
       "      <td>Georgia</td>\n",
       "      <td>M</td>\n",
       "      <td>Gold</td>\n",
       "    </tr>\n",
       "    <tr>\n",
       "      <th>15430</th>\n",
       "      <td>Beijing</td>\n",
       "      <td>2008-01-01</td>\n",
       "      <td>Wrestling</td>\n",
       "      <td>Wrestling Gre-R</td>\n",
       "      <td>55 - 60kg</td>\n",
       "      <td>RAHIMOV, Vitaliy</td>\n",
       "      <td>Men</td>\n",
       "      <td>AZE</td>\n",
       "      <td>Azerbaijan</td>\n",
       "      <td>M</td>\n",
       "      <td>Silver</td>\n",
       "    </tr>\n",
       "    <tr>\n",
       "      <th>15431</th>\n",
       "      <td>Beijing</td>\n",
       "      <td>2008-01-01</td>\n",
       "      <td>Wrestling</td>\n",
       "      <td>Wrestling Gre-R</td>\n",
       "      <td>60 - 66kg</td>\n",
       "      <td>GUENOT, Steeve</td>\n",
       "      <td>Men</td>\n",
       "      <td>FRA</td>\n",
       "      <td>France</td>\n",
       "      <td>M</td>\n",
       "      <td>Gold</td>\n",
       "    </tr>\n",
       "    <tr>\n",
       "      <th>15432</th>\n",
       "      <td>Beijing</td>\n",
       "      <td>2008-01-01</td>\n",
       "      <td>Wrestling</td>\n",
       "      <td>Wrestling Gre-R</td>\n",
       "      <td>96 - 120kg</td>\n",
       "      <td>LOPEZ, Mijain</td>\n",
       "      <td>Men</td>\n",
       "      <td>CUB</td>\n",
       "      <td>Cuba</td>\n",
       "      <td>M</td>\n",
       "      <td>Gold</td>\n",
       "    </tr>\n",
       "  </tbody>\n",
       "</table>\n",
       "<p>15316 rows × 11 columns</p>\n",
       "</div>"
      ],
      "text/plain": [
       "           City       Year      Sport       Discipline           Event  \\\n",
       "0      Montreal 1976-01-01   Aquatics           Diving  3m springboard   \n",
       "1      Montreal 1976-01-01   Aquatics           Diving  3m springboard   \n",
       "2      Montreal 1976-01-01   Aquatics           Diving  3m springboard   \n",
       "3      Montreal 1976-01-01   Aquatics           Diving  3m springboard   \n",
       "4      Montreal 1976-01-01   Aquatics           Diving    10m platform   \n",
       "...         ...        ...        ...              ...             ...   \n",
       "15428   Beijing 2008-01-01  Wrestling  Wrestling Gre-R       66 - 74kg   \n",
       "15429   Beijing 2008-01-01  Wrestling  Wrestling Gre-R       66 - 74kg   \n",
       "15430   Beijing 2008-01-01  Wrestling  Wrestling Gre-R       55 - 60kg   \n",
       "15431   Beijing 2008-01-01  Wrestling  Wrestling Gre-R       60 - 66kg   \n",
       "15432   Beijing 2008-01-01  Wrestling  Wrestling Gre-R      96 - 120kg   \n",
       "\n",
       "                        Athlete Gender Country_Code        Country  \\\n",
       "0               KÖHLER, Christa  Women          GDR   East Germany   \n",
       "1           KOSENKOV, Aleksandr    Men          URS   Soviet Union   \n",
       "2          BOGGS, Philip George    Men          USA  United States   \n",
       "3      CAGNOTTO, Giorgio Franco    Men          ITA          Italy   \n",
       "4        WILSON, Deborah Keplar  Women          USA  United States   \n",
       "...                         ...    ...          ...            ...   \n",
       "15428        GUENOT, Christophe    Men          FRA         France   \n",
       "15429       KVIRKELIA, Manuchar    Men          GEO        Georgia   \n",
       "15430          RAHIMOV, Vitaliy    Men          AZE     Azerbaijan   \n",
       "15431            GUENOT, Steeve    Men          FRA         France   \n",
       "15432             LOPEZ, Mijain    Men          CUB           Cuba   \n",
       "\n",
       "      Event_gender   Medal  \n",
       "0                W  Silver  \n",
       "1                M  Bronze  \n",
       "2                M    Gold  \n",
       "3                M  Silver  \n",
       "4                W  Bronze  \n",
       "...            ...     ...  \n",
       "15428            M  Bronze  \n",
       "15429            M    Gold  \n",
       "15430            M  Silver  \n",
       "15431            M    Gold  \n",
       "15432            M    Gold  \n",
       "\n",
       "[15316 rows x 11 columns]"
      ]
     },
     "execution_count": 104,
     "metadata": {},
     "output_type": "execute_result"
    }
   ],
   "source": [
    "clean_data1"
   ]
  },
  {
   "cell_type": "code",
   "execution_count": 113,
   "id": "8f214659",
   "metadata": {},
   "outputs": [
    {
     "data": {
      "text/plain": [
       "Athlete\n",
       "PHELPS, Michael    16\n",
       "FISCHER, Birgit    12\n",
       "NEMOV, Alexei      12\n",
       "TORRES, Dara       12\n",
       "THOMPSON, Jenny    12\n",
       "Name: Medal, dtype: int64"
      ]
     },
     "execution_count": 113,
     "metadata": {},
     "output_type": "execute_result"
    }
   ],
   "source": [
    "# top athletes and their medals.\n",
    "athelete_medals = clean_data1.groupby('Athlete')['Medal'].count().sort_values(ascending=False)\n",
    "athelete_medals.head()"
   ]
  },
  {
   "cell_type": "code",
   "execution_count": 115,
   "id": "f21194d8",
   "metadata": {},
   "outputs": [
    {
     "data": {
      "text/plain": [
       "Athlete              Medal \n",
       "ANDRIANOV, Nikolay   Gold       6\n",
       "                     Silver     4\n",
       "                     Bronze     2\n",
       "BIONDI, Matthew      Gold       8\n",
       "                     Silver     2\n",
       "                     Bronze     1\n",
       "COUGHLIN, Natalie    Gold       3\n",
       "                     Silver     4\n",
       "                     Bronze     4\n",
       "DITYATIN, Aleksandr  Gold       3\n",
       "                     Silver     6\n",
       "                     Bronze     1\n",
       "FISCHER, Birgit      Gold       8\n",
       "                     Silver     4\n",
       "                     Bronze     0\n",
       "NEMOV, Alexei        Gold       4\n",
       "                     Silver     2\n",
       "                     Bronze     6\n",
       "PHELPS, Michael      Gold      14\n",
       "                     Silver     0\n",
       "                     Bronze     2\n",
       "SCHERBO, Vitaly      Gold       6\n",
       "                     Silver     0\n",
       "                     Bronze     4\n",
       "THOMPSON, Jenny      Gold       8\n",
       "                     Silver     3\n",
       "                     Bronze     1\n",
       "TORRES, Dara         Gold       4\n",
       "                     Silver     4\n",
       "                     Bronze     4\n",
       "dtype: int64"
      ]
     },
     "execution_count": 115,
     "metadata": {},
     "output_type": "execute_result"
    }
   ],
   "source": [
    "# Top 10 atheltes with most medals and their medals type i.e.Gold, Silver and Bronze.\n",
    "top = athelete_medals.head(10).index\n",
    "clean_data1[clean_data1['Athlete'].isin(top)].groupby(['Athlete', 'Medal']).size()"
   ]
  },
  {
   "cell_type": "code",
   "execution_count": 116,
   "id": "745638e5",
   "metadata": {},
   "outputs": [
    {
     "data": {
      "text/plain": [
       "Gender\n",
       "Men      9388\n",
       "Women    5928\n",
       "Name: Medal, dtype: int64"
      ]
     },
     "execution_count": 116,
     "metadata": {},
     "output_type": "execute_result"
    }
   ],
   "source": [
    "# total number of medals won by each gender.\n",
    "clean_data1.groupby('Gender')['Medal'].count()"
   ]
  },
  {
   "cell_type": "code",
   "execution_count": 117,
   "id": "e7f2cbd2",
   "metadata": {},
   "outputs": [
    {
     "data": {
      "text/plain": [
       "Gender  Medal \n",
       "Men     Gold      3080\n",
       "        Silver    3051\n",
       "        Bronze    3257\n",
       "Women   Gold      1962\n",
       "        Silver    1965\n",
       "        Bronze    2001\n",
       "dtype: int64"
      ]
     },
     "execution_count": 117,
     "metadata": {},
     "output_type": "execute_result"
    }
   ],
   "source": [
    "# medal distribution among gender.\n",
    "clean_data1.groupby(['Gender', 'Medal']).size()"
   ]
  },
  {
   "cell_type": "code",
   "execution_count": null,
   "id": "a106aee8",
   "metadata": {},
   "outputs": [],
   "source": []
  }
 ],
 "metadata": {
  "kernelspec": {
   "display_name": "Python 3 (ipykernel)",
   "language": "python",
   "name": "python3"
  },
  "language_info": {
   "codemirror_mode": {
    "name": "ipython",
    "version": 3
   },
   "file_extension": ".py",
   "mimetype": "text/x-python",
   "name": "python",
   "nbconvert_exporter": "python",
   "pygments_lexer": "ipython3",
   "version": "3.9.13"
  }
 },
 "nbformat": 4,
 "nbformat_minor": 5
}
