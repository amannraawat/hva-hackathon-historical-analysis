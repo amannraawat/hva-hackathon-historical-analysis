{
 "cells": [
  {
   "cell_type": "markdown",
   "id": "01fda4e6",
   "metadata": {},
   "source": [
    "# Historical Analysis of Summer Olympics Medals"
   ]
  },
  {
   "cell_type": "markdown",
   "id": "271363d7",
   "metadata": {},
   "source": [
    "#### Dataset - https://www.kaggle.com/datasets/divyansh22/summer-olympics-medals"
   ]
  },
  {
   "cell_type": "code",
   "execution_count": 4,
   "id": "4ec930e2",
   "metadata": {},
   "outputs": [],
   "source": [
    "# importing essential libraries and tools\n",
    "import pandas as pd\n",
    "import matplotlib.pyplot as plt\n",
    "%matplotlib inline\n",
    "import seaborn as sns"
   ]
  },
  {
   "cell_type": "code",
   "execution_count": 14,
   "id": "3312b49f",
   "metadata": {},
   "outputs": [
    {
     "data": {
      "text/plain": [
       "(15433, 11)"
      ]
     },
     "execution_count": 14,
     "metadata": {},
     "output_type": "execute_result"
    }
   ],
   "source": [
    "#read data from csv file\n",
    "olympic_data = pd.read_csv('Summer-Olympic-medals-1976-to-2008.csv', encoding='latin-1')\n",
    "\n",
    "olympic_data.head()"
   ]
  },
  {
   "cell_type": "markdown",
   "id": "18296cbe",
   "metadata": {},
   "source": [
    "************\n",
    "#### First task is to clean the dataset by handling missing values, incorrect entries and also ensure data is correctly formatted.\n",
    "************"
   ]
  },
  {
   "cell_type": "code",
   "execution_count": 15,
   "id": "6465b9c6",
   "metadata": {},
   "outputs": [
    {
     "data": {
      "text/plain": [
       "(15433, 11)"
      ]
     },
     "execution_count": 15,
     "metadata": {},
     "output_type": "execute_result"
    }
   ],
   "source": [
    "olympic_data.shape"
   ]
  },
  {
   "cell_type": "code",
   "execution_count": 16,
   "id": "79bfe96f",
   "metadata": {},
   "outputs": [
    {
     "data": {
      "text/plain": [
       "City            117\n",
       "Year            117\n",
       "Sport           117\n",
       "Discipline      117\n",
       "Event           117\n",
       "Athlete         117\n",
       "Gender          117\n",
       "Country_Code    117\n",
       "Country         117\n",
       "Event_gender    117\n",
       "Medal           117\n",
       "dtype: int64"
      ]
     },
     "execution_count": 16,
     "metadata": {},
     "output_type": "execute_result"
    }
   ],
   "source": [
    "olympic_data.isnull().sum()"
   ]
  },
  {
   "cell_type": "code",
   "execution_count": 19,
   "id": "f78f4307",
   "metadata": {},
   "outputs": [
    {
     "data": {
      "text/plain": [
       "(15316, 11)"
      ]
     },
     "execution_count": 19,
     "metadata": {},
     "output_type": "execute_result"
    }
   ],
   "source": [
    "clean_data1 = olympic_data.dropna()\n",
    "clean_data1.shape"
   ]
  },
  {
   "cell_type": "code",
   "execution_count": null,
   "id": "d905d5df",
   "metadata": {},
   "outputs": [],
   "source": []
  }
 ],
 "metadata": {
  "kernelspec": {
   "display_name": "Python 3 (ipykernel)",
   "language": "python",
   "name": "python3"
  },
  "language_info": {
   "codemirror_mode": {
    "name": "ipython",
    "version": 3
   },
   "file_extension": ".py",
   "mimetype": "text/x-python",
   "name": "python",
   "nbconvert_exporter": "python",
   "pygments_lexer": "ipython3",
   "version": "3.9.13"
  }
 },
 "nbformat": 4,
 "nbformat_minor": 5
}
